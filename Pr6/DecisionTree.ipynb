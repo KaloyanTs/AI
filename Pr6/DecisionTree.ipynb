{
 "cells": [
  {
   "cell_type": "code",
   "execution_count": 10,
   "id": "b4b4174c-d536-4758-a40e-b0b0d2610bda",
   "metadata": {
    "scrolled": true
   },
   "outputs": [],
   "source": [
    "from ucimlrepo import fetch_ucirepo \n",
    "  \n",
    "# fetch dataset \n",
    "breast_cancer = fetch_ucirepo(id=14) \n",
    "  \n",
    "# data (as pandas dataframes) \n",
    "X = breast_cancer.data.features \n",
    "y = breast_cancer.data.targets \n",
    "  \n",
    "# metadata \n",
    "#print(breast_cancer.metadata) \n",
    "  \n",
    "# variable information \n",
    "#print(breast_cancer.variables) "
   ]
  },
  {
   "cell_type": "code",
   "execution_count": 11,
   "id": "d7f4129f-da95-43bf-8efe-27a5923695b6",
   "metadata": {},
   "outputs": [
    {
     "name": "stdout",
     "output_type": "stream",
     "text": [
      "(286, 9)\n",
      "(286, 1)\n"
     ]
    }
   ],
   "source": [
    "print(X.shape)\n",
    "print(y.shape)"
   ]
  },
  {
   "cell_type": "code",
   "execution_count": 73,
   "id": "c9cb729f-e82b-407f-b46c-83c21fbe2e5f",
   "metadata": {},
   "outputs": [],
   "source": [
    "import numpy as np\n",
    "import pandas as pd\n",
    "\n",
    "class DecisionTree:\n",
    "    def __init__(self, max_depth=None):\n",
    "        self.max_depth = max_depth\n",
    "        self.tree = None\n",
    "\n",
    "    def build(self, X, y):\n",
    "        self.tree = self._build_tree(X, y, depth=0)\n",
    "\n",
    "    def predict(self, X):\n",
    "        return np.array([ self._traverse_tree(row, self.tree) for index, row in X.iterrows()])\n",
    "\n",
    "    def _gini(self, y):\n",
    "        classes = y.value_counts(normalize=True)\n",
    "        return 1 - np.sum(classes**2)\n",
    "\n",
    "    def _split(self, X, y, feature_index, threshold):\n",
    "        left_mask = X[feature_index] < threshold\n",
    "        right_mask = ~left_mask\n",
    "        return X[left_mask], y[left_mask], X[right_mask], y[right_mask]\n",
    "\n",
    "    def _best_split(self, X: pd.DataFrame, y: pd.Series):\n",
    "        best_gini = float(\"inf\")\n",
    "        best_split = None\n",
    "    \n",
    "        for feature in X.columns:\n",
    "            thresholds = X[feature].unique()\n",
    "            for threshold in thresholds:\n",
    "                \n",
    "                X_left, y_left, X_right, y_right = self._split(X, y, feature, threshold)\n",
    "                if len(y_left) == 0 or len(y_right) == 0:\n",
    "                    continue\n",
    "    \n",
    "                gini_left = self._gini(y_left)\n",
    "                gini_right = self._gini(y_right)\n",
    "                weighted_gini = (len(y_left) * gini_left + len(y_right) * gini_right) / len(y)\n",
    "    \n",
    "                if weighted_gini < best_gini:\n",
    "                    best_gini = weighted_gini\n",
    "                    best_split = (feature, threshold)\n",
    "    \n",
    "        return best_split\n",
    "\n",
    "    def _build_tree(self, X, y, depth):\n",
    "        if len(y.iloc[:, 0].unique()) == 1 or depth == self.max_depth or len(y) == 0:\n",
    "            return {\"leaf\": True, \"value\": y.iloc[:, 0].mode()[0]}\n",
    "    \n",
    "        split = self._best_split(X, y)\n",
    "        \n",
    "        if not split:\n",
    "            return {\"leaf\": True, \"value\": y.iloc[:, 0].mode()[0]}\n",
    "    \n",
    "        feature, threshold = split\n",
    "    \n",
    "        left_mask = X[feature] < threshold\n",
    "        right_mask = ~left_mask\n",
    "    \n",
    "        X_left, y_left = X.loc[left_mask], y.loc[left_mask]\n",
    "        X_right, y_right = X.loc[right_mask], y.loc[right_mask]\n",
    "    \n",
    "        return {\n",
    "            \"leaf\": False,\n",
    "            \"feature\": feature,\n",
    "            \"threshold\": threshold,\n",
    "            \"left\": self._build_tree(X_left, y_left, depth + 1),\n",
    "            \"right\": self._build_tree(X_right, y_right, depth + 1),\n",
    "        }\n",
    "\n",
    "    def _traverse_tree(self, x, node):\n",
    "        # try:\n",
    "        if node[\"leaf\"]:\n",
    "            return node[\"value\"]\n",
    "\n",
    "        if isinstance(x[node[\"feature\"]], (int, float)) and np.isnan(x[node[\"feature\"]]) or x[node[\"feature\"]] < node[\"threshold\"]:\n",
    "            return self._traverse_tree(x, node[\"left\"])\n",
    "        else:\n",
    "            return self._traverse_tree(x, node[\"right\"])\n",
    "        # except KeyError as e:\n",
    "        #     print(f\"KeyError: Missing key {e} in the node. Node: {node}\")\n",
    "        # except Exception as e:\n",
    "        #     print(f\"Error during tree traversal: {e}\", node[\"feature\"], x[node[\"feature\"]], node[\"threshold\"])    "
   ]
  },
  {
   "cell_type": "code",
   "execution_count": 78,
   "id": "40061ee2-d291-442b-883b-656a71b652bf",
   "metadata": {},
   "outputs": [
    {
     "name": "stdout",
     "output_type": "stream",
     "text": [
      "Fold 1:  0.5517241379310345\n",
      "Fold 2:  0.6896551724137931\n",
      "Fold 3:  0.7586206896551724\n",
      "Fold 4:  0.5862068965517241\n",
      "Fold 5:  0.5862068965517241\n",
      "Fold 6:  0.6206896551724138\n",
      "Fold 7:  0.6785714285714286\n",
      "Fold 8:  0.7142857142857143\n",
      "Fold 9:  0.75\n",
      "Fold 10:  0.8571428571428571\n",
      "[0.55172414 0.68965517 0.75862069 0.5862069  0.5862069  0.62068966\n",
      " 0.67857143 0.71428571 0.75       0.85714286]\n",
      "0.6793103448275862\n"
     ]
    }
   ],
   "source": [
    "from sklearn.model_selection import KFold\n",
    "\n",
    "n_splits = 10\n",
    "kf = KFold(n_splits=n_splits, shuffle=True, random_state=42)\n",
    "\n",
    "accuracy = np.array([])\n",
    "\n",
    "for fold, (train_index, test_index) in enumerate(kf.split(X), 1):\n",
    "    X_train, X_test = X.iloc[train_index], X.iloc[test_index]\n",
    "    y_train, y_test = y.iloc[train_index], y.iloc[test_index]\n",
    "\n",
    "    \n",
    "    tree = DecisionTree(max_depth=5)\n",
    "    tree.build(X_train, y_train)\n",
    "\n",
    "    predictions = tree.predict(X_test)\n",
    "    guessed = np.sum(predictions == (y_test[\"Class\"].to_numpy()))\n",
    "    accuracy = np.append(accuracy, guessed / len(y_test))\n",
    "\n",
    "    print(f\"Fold {fold}: \",guessed / len(y_test))\n",
    "\n",
    "print(np.mean(accuracy))"
   ]
  },
  {
   "cell_type": "code",
   "execution_count": null,
   "id": "650b503a-7d22-4a43-a564-8a78fe211fa8",
   "metadata": {},
   "outputs": [],
   "source": []
  }
 ],
 "metadata": {
  "kernelspec": {
   "display_name": "Python 3 (ipykernel)",
   "language": "python",
   "name": "python3"
  },
  "language_info": {
   "codemirror_mode": {
    "name": "ipython",
    "version": 3
   },
   "file_extension": ".py",
   "mimetype": "text/x-python",
   "name": "python",
   "nbconvert_exporter": "python",
   "pygments_lexer": "ipython3",
   "version": "3.12.4"
  }
 },
 "nbformat": 4,
 "nbformat_minor": 5
}

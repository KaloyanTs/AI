{
 "cells": [
  {
   "cell_type": "code",
   "execution_count": 1,
   "id": "f3392d52-8714-4a7f-ad61-54be855e2f02",
   "metadata": {},
   "outputs": [],
   "source": [
    "from sklearn import datasets\n",
    "digits = datasets.load_digits()"
   ]
  },
  {
   "cell_type": "code",
   "execution_count": 12,
   "id": "cc354fa9-142e-4cf5-a5d3-d1f66b2376ad",
   "metadata": {},
   "outputs": [],
   "source": [
    "import numpy as np\n",
    "n_samples = len(digits.images)\n",
    "X = digits.images.reshape((n_samples, -1))\n",
    "y = digits.target"
   ]
  },
  {
   "cell_type": "code",
   "execution_count": null,
   "id": "45f72b14-c4c2-458b-bb48-71d655102bb8",
   "metadata": {
    "scrolled": true
   },
   "outputs": [],
   "source": [
    "from scipy.special import softmax\n",
    "\n",
    "W = np.random.uniform(-20, 20, size=(10, 64))\n",
    "b = np. random.uniform(-20,20, size=(10))\n",
    "\n",
    "probs = softmax(np.maximum(0, np.matmul(W,X[0])+b))\n",
    "print(probs)"
   ]
  },
  {
   "cell_type": "code",
   "execution_count": 6,
   "id": "f1acb97e-e099-4fd7-8eab-d014e7b7ccee",
   "metadata": {},
   "outputs": [],
   "source": [
    "class Node:\n",
    "    def __init__(self, calculate, predecessors, derives, final=False):\n",
    "        self.calc = calculate\n",
    "        self.predecessors = zip(predecessors, derives)\n",
    "        self.value = None\n",
    "        self.gradient = None\n",
    "        self.final = final\n",
    "\n",
    "def topoSortRec(node, result):\n",
    "    if node in result:\n",
    "        return\n",
    "    for parent in node.predecessors:\n",
    "        topoSortRec(parent[0], result)\n",
    "    result.append(node)\n",
    "\n",
    "def topoSort(nodes):\n",
    "    result = []\n",
    "    for node in nodes:\n",
    "        topoSortRec(node, result)\n",
    "    return result\n",
    "\n",
    "def forward(nodes):\n",
    "    order = topoSort(nodes)\n",
    "    for node in order:\n",
    "        node.value = node.calc(*[p[0].value for p in node.predecessors)\n",
    "    print (\"final forward \",order[-1].value)\n",
    "\n",
    "def backpropagation(nodes):\n",
    "    order = topoSort(nodes)\n",
    "    for v in order:\n",
    "        v.gradient = np.zero()\n",
    "        if v.final:\n",
    "            v.gradient = 1\n",
    "    for v in order[::-1]:\n",
    "        values = [node.value for node in v.predecessors]\n",
    "        for [node, derive] in v.predecessors:\n",
    "            node.gradient += np.matmul(v.gradient, derive(*values))\n",
    "        "
   ]
  },
  {
   "cell_type": "code",
   "execution_count": 7,
   "id": "3b2abc04-d548-4757-9052-48e491e59494",
   "metadata": {},
   "outputs": [],
   "source": [
    "W = Node(lambda : x, [], [])\n",
    "x = Node(lambda : x, [], [])\n",
    "a = Node(lambda W,x: np.matmul(W,x), [W,x], [lambda W,x: ])"
   ]
  },
  {
   "cell_type": "code",
   "execution_count": null,
   "id": "37fef7ec-af9f-4a81-a7cd-51872b0519bf",
   "metadata": {},
   "outputs": [],
   "source": []
  }
 ],
 "metadata": {
  "kernelspec": {
   "display_name": "Python 3 (ipykernel)",
   "language": "python",
   "name": "python3"
  },
  "language_info": {
   "codemirror_mode": {
    "name": "ipython",
    "version": 3
   },
   "file_extension": ".py",
   "mimetype": "text/x-python",
   "name": "python",
   "nbconvert_exporter": "python",
   "pygments_lexer": "ipython3",
   "version": "3.12.4"
  }
 },
 "nbformat": 4,
 "nbformat_minor": 5
}

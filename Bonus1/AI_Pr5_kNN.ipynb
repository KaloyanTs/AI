{
 "cells": [
  {
   "cell_type": "code",
   "execution_count": 6,
   "id": "2a58df8d-2c2e-4246-9a23-8ac6ff7c30d5",
   "metadata": {
    "scrolled": true
   },
   "outputs": [],
   "source": [
    "import numpy as np\n",
    "import pandas as pd\n",
    "\n",
    "from ucimlrepo import fetch_ucirepo \n",
    "  \n",
    "# fetch dataset \n",
    "iris = fetch_ucirepo(id=53) \n",
    "  \n",
    "# data (as pandas dataframes) \n",
    "X = iris.data.features \n",
    "y = iris.data.targets \n",
    "  \n",
    "# metadata \n",
    "# print(iris.metadata)\n",
    "\n",
    "# variable information\n",
    "# print(iris.variables)"
   ]
  },
  {
   "cell_type": "code",
   "execution_count": 7,
   "id": "96324749-9f5e-40a3-a566-c11004e14420",
   "metadata": {},
   "outputs": [
    {
     "name": "stdout",
     "output_type": "stream",
     "text": [
      "(150, 4)\n"
     ]
    }
   ],
   "source": [
    "print(X.shape)"
   ]
  },
  {
   "cell_type": "code",
   "execution_count": 8,
   "id": "e81cd328-c9cf-43de-a5a0-46fb3a784570",
   "metadata": {},
   "outputs": [],
   "source": [
    "class KDTree(object):\n",
    "    \n",
    "    def __init__(self, points):\n",
    "\n",
    "        self._dim = points.shape[1]\n",
    "\n",
    "        self._dist_sq_func = lambda a, b: sum((x - b[i]) ** 2 for i, x in enumerate(a))\n",
    "                \n",
    "        def make(points, i=0):\n",
    "            if len(points) > 1:\n",
    "                #points.sort(key=lambda x: x[i])\n",
    "                #print([point[1][i] for point in points])\n",
    "                #points = points[np.argsort(np.array([point[1][i] for point in points]))]\n",
    "                points = sorted(points, key=lambda x: x[1][i])\n",
    "                i = (i + 1) % self._dim\n",
    "                m = len(points) >> 1\n",
    "                return [make(points[:m], i), make(points[m + 1:], i), \n",
    "                    points[m]]\n",
    "            if len(points) == 1:\n",
    "                return [None, None, points[0]]\n",
    "        \n",
    "        def add_point(node, point, i=0):\n",
    "            if node is not None:\n",
    "                dx = node[2][i] - point[1][i]\n",
    "                for j, c in ((0, dx >= 0), (1, dx < 0)):\n",
    "                    if c and node[j] is None:\n",
    "                        node[j] = [None, None, point]\n",
    "                    elif c:\n",
    "                        add_point(node[j], point, (i + 1) % self._dim)\n",
    "\n",
    "        import heapq\n",
    "        def get_knn(node, point, k, heap, i=0, depth=1):\n",
    "            if node is not None:\n",
    "                dist_sq = self._dist_sq_func(point, node[2][1])\n",
    "                dx = node[2][1][i] - point[i]\n",
    "                if len(heap) < k:\n",
    "                    heapq.heappush(heap, (-dist_sq, depth, node[2]))\n",
    "                elif dist_sq < -heap[0][0]:\n",
    "                    heapq.heappushpop(heap, (-dist_sq, depth, node[2]))\n",
    "                i = (i + 1) % self._dim\n",
    "                for b in (dx < 0, dx >= 0)[:1 + (dx * dx < -heap[0][0])]:\n",
    "                    get_knn(node[1 if b else 0], point, k, heap, i, depth + 1)\n",
    "            if depth == 1:\n",
    "                return [h[2] for h in sorted(heap)][::-1]\n",
    "\n",
    "        self._add_point = add_point\n",
    "        self._get_knn = get_knn \n",
    "        self._root = make(list(enumerate(points)))\n",
    "        \n",
    "    def add_point(self, point):\n",
    "        if self._root is None:\n",
    "            self._root = [None, None, point]\n",
    "        else:\n",
    "            self._add_point(self._root, point)\n",
    "\n",
    "    def get_knn(self, point, k):\n",
    "        return self._get_knn(self._root, point, k, [])\n",
    "\n",
    "    def get_nearest(self, point):\n",
    "        l = self._get_knn(self._root, point, 1, [])\n",
    "        return l[0] if len(l) else None"
   ]
  },
  {
   "cell_type": "code",
   "execution_count": 20,
   "id": "38bb7b8a-384e-46ee-be71-a5d4afbb6b2b",
   "metadata": {},
   "outputs": [
    {
     "name": "stdin",
     "output_type": "stream",
     "text": [
      "Enter how many neighbours to be considered:  4\n"
     ]
    }
   ],
   "source": [
    "from sklearn.model_selection import KFold, train_test_split\n",
    "\n",
    "X = np.array(iris.data.features)\n",
    "y = np.array(iris.data.targets)\n",
    "\n",
    "n_splits = 10\n",
    "\n",
    "k = int(input(\"Enter how many neighbours to be considered: \"))\n",
    "\n",
    "X_train_full, X_test_full, y_train_full, y_test_full = train_test_split(X, y, test_size=0.2, shuffle=True)\n",
    "\n",
    "kf = KFold(n_splits=n_splits, shuffle=True, random_state=42)\n",
    "\n",
    "accuracy = np.empty(0)\n",
    "\n",
    "def getAccuracy(X_train, X_test, y_train, y_test):\n",
    "    guessed = 0\n",
    "\n",
    "    kdtree = KDTree(X_train)\n",
    "\n",
    "    for index, sample in enumerate(X_test):\n",
    "        pairs = kdtree.get_knn(sample, k)\n",
    "        indices = [pair[0] for pair in pairs]\n",
    "        closestK = [X_train[index] for index in indices]\n",
    "        closestKLabels = y_train[indices]\n",
    "        types = np.unique(y_train[indices])\n",
    "        #closestK = X_train[indices[:k]]\n",
    "        #closestKLabels = y_train[indices[:k]]\n",
    "\n",
    "        def distToSampleScore(x):\n",
    "            return 1/(np.linalg.norm(sample - x)+0.001);\n",
    "\n",
    "        vectorizedDist = np.vectorize(distToSampleScore)\n",
    "\n",
    "        scores = np.apply_along_axis(distToSampleScore, axis=1, arr=closestK)\n",
    "\n",
    "        sum_scores = np.array([np.sum(scores[np.array(np.where(closestKLabels == label))[0]]) for label in types])\n",
    "\n",
    "        res = types[np.argmax(sum_scores)]\n",
    "    \n",
    "        #print(f\"Test sample: {sample}\")\n",
    "        #print(f\"Closest {k} training samples:\\n{closest_k}\")\n",
    "        #types, counts = np.unique(closestKLabels, return_counts=True)\n",
    "        #res_index = np.argmax(counts)\n",
    "        #res = types[res_index]\n",
    "        #frequency = counts[res_index]\n",
    "        #print(f\"Res label: {res}\")\n",
    "        guessed += (res == y_test[index])\n",
    "\n",
    "        #if(res != y_test[index]):\n",
    "        #    print(\"wrong\")\n",
    "        #    print(types)\n",
    "        #    print(sum_scores)\n",
    "        #    print(y_test[index])\n",
    "        #    print(res)\n",
    "        #    print(\"end wrong\")\n",
    "        #print(\"-\" * 40)\n",
    "\n",
    "    currentSampleAccuracy = guessed / X_test.shape[0]\n",
    "    return currentSampleAccuracy\n",
    "\n",
    "accuracy = np.append(accuracy, getAccuracy(X_train_full, X_train_full, y_train_full, y_train_full))\n",
    "\n",
    "for fold, (train_index, test_index) in enumerate(kf.split(X_train_full), 1):\n",
    "    X_train, X_test = X_train_full[train_index], X_train_full[test_index]\n",
    "    y_train, y_test = y_train_full[train_index], y_train_full[test_index]\n",
    "    #print(f\"Fold {fold}\")\n",
    "    #print(f\"Train data shape: {X_train.shape}, Test data shape: {X_test.shape}\")\n",
    "    #print(\"-\" * 40)\n",
    "\n",
    "    # guessed = 0\n",
    "\n",
    "    # kdtree = KDTree(X_train)\n",
    "\n",
    "    # for index, sample in enumerate(X_test):\n",
    "    #     pairs = kdtree.get_knn(sample, k)\n",
    "    #     indices = [pair[0] for pair in pairs]\n",
    "    #     closestK = [X_train[index] for index in indices]\n",
    "    #     closestKLabels = y_train[indices]\n",
    "    #     types = np.unique(y_train[indices])\n",
    "    #     #closestK = X_train[indices[:k]]\n",
    "    #     #closestKLabels = y_train[indices[:k]]\n",
    "\n",
    "    #     def distToSampleScore(x):\n",
    "    #         return 1/(np.linalg.norm(sample - x)+0.001);\n",
    "\n",
    "    #     vectorizedDist = np.vectorize(distToSampleScore)\n",
    "\n",
    "    #     scores = np.apply_along_axis(distToSampleScore, axis=1, arr=closestK)\n",
    "\n",
    "    #     sum_scores = np.array([np.sum(scores[np.array(np.where(closestKLabels == label))[0]]) for label in types])\n",
    "\n",
    "    #     res = types[np.argmax(sum_scores)]\n",
    "    \n",
    "    #     #print(f\"Test sample: {sample}\")\n",
    "    #     #print(f\"Closest {k} training samples:\\n{closest_k}\")\n",
    "    #     #types, counts = np.unique(closestKLabels, return_counts=True)\n",
    "    #     #res_index = np.argmax(counts)\n",
    "    #     #res = types[res_index]\n",
    "    #     #frequency = counts[res_index]\n",
    "    #     #print(f\"Res label: {res}\")\n",
    "    #     guessed += (res == y_test[index])\n",
    "\n",
    "    #     #if(res != y_test[index]):\n",
    "    #     #    print(\"wrong\")\n",
    "    #     #    print(types)\n",
    "    #     #    print(sum_scores)\n",
    "    #     #    print(y_test[index])\n",
    "    #     #    print(res)\n",
    "    #     #    print(\"end wrong\")\n",
    "    #     #print(\"-\" * 40)\n",
    "\n",
    "    # currentSampleAccuracy = guessed / X_test.shape[0]\n",
    "    # #print(f\"Guessed: {currentSampleAccuracy}\")\n",
    "    # accuracy = np.append(accuracy, currentSampleAccuracy)\n",
    "    accuracy = np.append(accuracy, getAccuracy(X_train, X_test, y_train, y_test))\n",
    "\n",
    "    #print(accuracy)"
   ]
  },
  {
   "cell_type": "code",
   "execution_count": 21,
   "id": "93a47ca6-1e30-4a62-b587-12caaf888482",
   "metadata": {},
   "outputs": [
    {
     "name": "stdout",
     "output_type": "stream",
     "text": [
      "[1.         0.91666667 1.         1.         1.         1.\n",
      " 1.         0.91666667 0.83333333 1.         0.83333333]\n",
      "0.9545454545454546\n"
     ]
    }
   ],
   "source": [
    "print(accuracy)\n",
    "print(np.mean(accuracy))"
   ]
  },
  {
   "cell_type": "code",
   "execution_count": 22,
   "id": "0a0ce82b-71d0-4c46-8dd7-4feb231c55a6",
   "metadata": {},
   "outputs": [
    {
     "name": "stdout",
     "output_type": "stream",
     "text": [
      "[1.]\n"
     ]
    }
   ],
   "source": [
    "print(getAccuracy(X_train_full, X_test_full, y_train_full, y_test_full))"
   ]
  },
  {
   "cell_type": "code",
   "execution_count": null,
   "id": "2f9dc5dc-c836-431e-ab69-2a21f864a790",
   "metadata": {},
   "outputs": [],
   "source": []
  }
 ],
 "metadata": {
  "kernelspec": {
   "display_name": "Python 3 (ipykernel)",
   "language": "python",
   "name": "python3"
  },
  "language_info": {
   "codemirror_mode": {
    "name": "ipython",
    "version": 3
   },
   "file_extension": ".py",
   "mimetype": "text/x-python",
   "name": "python",
   "nbconvert_exporter": "python",
   "pygments_lexer": "ipython3",
   "version": "3.12.4"
  }
 },
 "nbformat": 4,
 "nbformat_minor": 5
}

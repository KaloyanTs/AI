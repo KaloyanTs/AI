{
 "cells": [
  {
   "cell_type": "code",
   "execution_count": 85,
   "id": "2a58df8d-2c2e-4246-9a23-8ac6ff7c30d5",
   "metadata": {
    "scrolled": true
   },
   "outputs": [],
   "source": [
    "import numpy as np\n",
    "import pandas as pd\n",
    "\n",
    "from ucimlrepo import fetch_ucirepo \n",
    "  \n",
    "# fetch dataset \n",
    "iris = fetch_ucirepo(id=53) \n",
    "  \n",
    "# data (as pandas dataframes) \n",
    "X = iris.data.features \n",
    "y = iris.data.targets \n",
    "  \n",
    "# metadata \n",
    "# print(iris.metadata)\n",
    "\n",
    "# variable information\n",
    "# print(iris.variables)"
   ]
  },
  {
   "cell_type": "code",
   "execution_count": 116,
   "id": "38bb7b8a-384e-46ee-be71-a5d4afbb6b2b",
   "metadata": {},
   "outputs": [
    {
     "name": "stdin",
     "output_type": "stream",
     "text": [
      "Enter how many neighbours to be considered:  10\n"
     ]
    }
   ],
   "source": [
    "from sklearn.model_selection import KFold\n",
    "from sklearn.neighbors import KDTree\n",
    "\n",
    "X = np.array(iris.data.features)\n",
    "y = np.array(iris.data.targets)\n",
    "\n",
    "n_splits = 10\n",
    "\n",
    "k = int(input(\"Enter how many neighbours to be considered: \"))\n",
    "\n",
    "kf = KFold(n_splits=n_splits, shuffle=True, random_state=42)\n",
    "\n",
    "accuracy = np.empty(0)\n",
    "\n",
    "for fold, (train_index, test_index) in enumerate(kf.split(X), 1):\n",
    "    X_train, X_test = X[train_index], X[test_index]\n",
    "    y_train, y_test = y[train_index], y[test_index]\n",
    "    #print(f\"Fold {fold}\")\n",
    "    #print(f\"Train data shape: {X_train.shape}, Test data shape: {X_test.shape}\")\n",
    "    #print(\"-\" * 40)\n",
    "\n",
    "    guessed = 0\n",
    "\n",
    "    # Build the KDTree\n",
    "    kdtree = KDTree(X_train)\n",
    "\n",
    "    for index, sample in enumerate(X_test):\n",
    "        distances = np.linalg.norm(X_train - sample, axis=1)\n",
    "    \n",
    "        indices = np.argsort(distances)\n",
    "        distances, indices = kdtree.query([sample], k)\n",
    "        closestK = X_train[indices][0]\n",
    "        closestKLabels = y_train[indices][0]\n",
    "        #closestK = X_train[indices[:k]]\n",
    "        #closestKLabels = y_train[indices[:k]]\n",
    "\n",
    "        def distToSampleScore(x):\n",
    "            return 1/(np.linalg.norm(sample - x)+0.001);\n",
    "\n",
    "        vectorizedDist = np.vectorize(distToSampleScore)\n",
    "\n",
    "        scores = np.apply_along_axis(distToSampleScore, axis=1, arr=closestK)\n",
    "\n",
    "        types = np.unique(closestKLabels)        \n",
    "\n",
    "        sum_scores = np.array([np.sum(scores[np.array(np.where(closestKLabels == label))[0]]) for label in types])\n",
    "\n",
    "        res = types[np.argmax(sum_scores)]\n",
    "    \n",
    "        #print(f\"Test sample: {sample}\")\n",
    "        #print(f\"Closest {k} training samples:\\n{closest_k}\")\n",
    "        #types, counts = np.unique(closestKLabels, return_counts=True)\n",
    "        #res_index = np.argmax(counts)\n",
    "        #res = types[res_index]\n",
    "        #frequency = counts[res_index]\n",
    "        #print(f\"Res label: {res}\")\n",
    "        guessed += (res == y_test[index])\n",
    "\n",
    "        #if(res != y_test[index]):\n",
    "        #    print(\"wrong\")\n",
    "        #    print(types)\n",
    "        #    print(sum_scores)\n",
    "        #    print(y_test[index])\n",
    "        #    print(res)\n",
    "        #    print(\"end wrong\")\n",
    "        #print(\"-\" * 40)\n",
    "\n",
    "    currentSampleAccuracy = guessed / X_test.shape[0]\n",
    "    #print(f\"Guessed: {currentSampleAccuracy}\")\n",
    "    accuracy = np.append(accuracy, currentSampleAccuracy)\n",
    "    #print(accuracy)"
   ]
  },
  {
   "cell_type": "code",
   "execution_count": 117,
   "id": "93a47ca6-1e30-4a62-b587-12caaf888482",
   "metadata": {},
   "outputs": [
    {
     "name": "stdout",
     "output_type": "stream",
     "text": [
      "[1.         1.         1.         0.93333333 1.         0.93333333\n",
      " 0.93333333 1.         1.         0.93333333]\n",
      "0.9733333333333334\n"
     ]
    }
   ],
   "source": [
    "print(accuracy)\n",
    "print(np.mean(accuracy))"
   ]
  }
 ],
 "metadata": {
  "kernelspec": {
   "display_name": "Python 3 (ipykernel)",
   "language": "python",
   "name": "python3"
  },
  "language_info": {
   "codemirror_mode": {
    "name": "ipython",
    "version": 3
   },
   "file_extension": ".py",
   "mimetype": "text/x-python",
   "name": "python",
   "nbconvert_exporter": "python",
   "pygments_lexer": "ipython3",
   "version": "3.12.4"
  }
 },
 "nbformat": 4,
 "nbformat_minor": 5
}

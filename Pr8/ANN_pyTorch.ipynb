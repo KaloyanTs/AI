{
 "cells": [
  {
   "cell_type": "code",
   "execution_count": null,
   "metadata": {},
   "outputs": [],
   "source": [
    "import torch\n",
    "import matplotlib.pyplot as plt\n",
    " \n",
    "# generate synthetic the data\n",
    "X = torch.arange(-30, 30, 1).view(-1, 1).type(torch.FloatTensor)\n",
    "Y = torch.zeros(X.shape[0])\n",
    "Y[(X[:, 0] <= -10)] = 1.0\n",
    "Y[(X[:, 0] > -10) & (X[:, 0] < 10)] = 0.5\n",
    "Y[(X[:, 0] > 10)] = 0\n",
    " \n",
    "plt.plot(X, Y)\n",
    "plt.show()"
   ]
  },
  {
   "cell_type": "code",
   "execution_count": 3,
   "metadata": {},
   "outputs": [],
   "source": [
    "\n",
    "# Define the class for single layer NN\n",
    "class one_layer_net(torch.nn.Module):    \n",
    "    # Constructor\n",
    "    def __init__(self, input_size, hidden_neurons, output_size):\n",
    "        super(one_layer_net, self).__init__()\n",
    "        # hidden layer \n",
    "        self.linear_one = torch.nn.Linear(input_size, hidden_neurons)\n",
    "        self.linear_two = torch.nn.Linear(hidden_neurons, output_size) \n",
    "        # defining layers as attributes\n",
    "        self.layer_in = None\n",
    "        self.act = None\n",
    "        self.layer_out = None\n",
    "    # prediction function\n",
    "    def forward(self, x):\n",
    "        self.layer_in = self.linear_one(x)\n",
    "        self.act = torch.sigmoid(self.layer_in)\n",
    "        self.layer_out = self.linear_two(self.act)\n",
    "        y_pred = torch.sigmoid(self.linear_two(self.act))\n",
    "        return y_pred"
   ]
  },
  {
   "cell_type": "code",
   "execution_count": 4,
   "metadata": {},
   "outputs": [],
   "source": [
    "# create the model \n",
    "model = one_layer_net(1, 2, 1)  # 2 represents two neurons in one hidden layer\n",
    " \n",
    "def criterion(y_pred, y):\n",
    "    out = -1 * torch.mean(y * torch.log(y_pred) + (1 - y) * torch.log(1 - y_pred))\n",
    "    return out\n",
    "optimizer = torch.optim.SGD(model.parameters(), lr=0.01)"
   ]
  },
  {
   "cell_type": "code",
   "execution_count": null,
   "metadata": {},
   "outputs": [],
   "source": [
    "# Define the training loop\n",
    "epochs=10000\n",
    "cost = []\n",
    "total=0\n",
    "for epoch in range(epochs):\n",
    "    total=0\n",
    "    epoch = epoch + 1\n",
    "    for x, y in zip(X, Y):\n",
    "        yhat = model(x)\n",
    "        loss = criterion(yhat, y)\n",
    "        loss.backward()\n",
    "        optimizer.step()\n",
    "        optimizer.zero_grad()\n",
    "        # get total loss \n",
    "        total+=loss.item() \n",
    "    cost.append(total)\n",
    "    if epoch % 100 == 0:\n",
    "        print(\"Epoch \", epoch, \"Loss \", total, flush=True)\n",
    "    if epoch % 10000 == 0:\n",
    "        print(str(epoch)+ \" \" + \"epochs done!\") # visualze results after every 1000 epochs   \n",
    "        # plot the result of function approximator\n",
    "        plt.plot(X.numpy(), model(X).detach().numpy())\n",
    "        plt.plot(X.numpy(), Y.numpy(), 'm')\n",
    "        plt.xlabel('x')\n",
    "        plt.show()"
   ]
  },
  {
   "cell_type": "code",
   "execution_count": null,
   "metadata": {},
   "outputs": [],
   "source": [
    "# plot the cost\n",
    "plt.plot(cost)\n",
    "plt.xlabel('epochs')\n",
    "plt.title('cross entropy loss')\n",
    "plt.show()"
   ]
  }
 ],
 "metadata": {
  "kernelspec": {
   "display_name": "deep_learning",
   "language": "python",
   "name": "python3"
  },
  "language_info": {
   "codemirror_mode": {
    "name": "ipython",
    "version": 3
   },
   "file_extension": ".py",
   "mimetype": "text/x-python",
   "name": "python",
   "nbconvert_exporter": "python",
   "pygments_lexer": "ipython3",
   "version": "3.12.7"
  }
 },
 "nbformat": 4,
 "nbformat_minor": 2
}

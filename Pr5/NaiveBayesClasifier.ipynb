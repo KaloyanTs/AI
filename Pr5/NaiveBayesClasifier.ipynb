{
 "cells": [
  {
   "cell_type": "code",
   "execution_count": 1,
   "id": "1cbd28ef-1567-443e-8f3b-2fedba4cfa69",
   "metadata": {
    "scrolled": true
   },
   "outputs": [],
   "source": [
    "from ucimlrepo import fetch_ucirepo \n",
    "  \n",
    "# fetch dataset \n",
    "congressional_voting_records = fetch_ucirepo(id=105) \n",
    "  \n",
    "# data (as pandas dataframes) \n",
    "X = congressional_voting_records.data.features \n",
    "y = congressional_voting_records.data.targets \n",
    "  \n",
    "# metadata \n",
    "#print(congressional_voting_records.metadata) \n",
    "  \n",
    "# variable information \n",
    "#print(congressional_voting_records.variables) \n"
   ]
  },
  {
   "cell_type": "code",
   "execution_count": 2,
   "id": "88339e87-8d79-437b-8330-3388dd5a3a5b",
   "metadata": {},
   "outputs": [
    {
     "name": "stdout",
     "output_type": "stream",
     "text": [
      "(435, 16)\n",
      "(435, 1)\n"
     ]
    }
   ],
   "source": [
    "print(X.shape)\n",
    "print(y.shape)"
   ]
  },
  {
   "cell_type": "code",
   "execution_count": 3,
   "id": "53c9c6a3-58a3-411c-9018-74f1df519c4b",
   "metadata": {
    "scrolled": true
   },
   "outputs": [],
   "source": [
    "import numpy as np\n",
    "import pandas as pd\n",
    "\n",
    "# features_count = X.shape[1]\n",
    "\n",
    "# classes = np.unique(y)\n",
    "\n",
    "# probs = pd.DataFrame(0.0, index=X.columns, columns=classes)\n",
    "# #probs.assoc.loc[X.columns[0], classes[0]] = 42\n",
    "\n",
    "# for index, row in X.iterrows():\n",
    "#     for attr in X.columns:\n",
    "#         if(row[attr] == \"y\"):\n",
    "#             probs.loc[attr,y.loc[index,\"Class\"]] += 1.0\n",
    "\n",
    "# #print(probs)\n",
    "\n",
    "# aprior_log_prob = pd.Series(0.0, index=classes)\n",
    "\n",
    "# for c in classes:\n",
    "#     aprior_log_prob[c] = y[y[\"Class\"] == c].shape[0]\n",
    "\n",
    "\n",
    "# for index, row in probs.iterrows():\n",
    "#     for c in probs.columns:\n",
    "#         row[c] /= aprior_log_prob[c]\n",
    "\n",
    "# aprior_log_prob /= X.shape[0]\n",
    "# aprior_log_prob = np.log(aprior_log_prob)\n",
    "\n",
    "# probs = np.log(probs)\n",
    "\n",
    "# print(aprior_log_prob)\n",
    "# print(probs)\n",
    "\n",
    "class NaiveBayes:\n",
    "    def __init__(self):\n",
    "        self.probs = None\n",
    "        self.aprior_log_probs = None\n",
    "        self.classes = None \n",
    "        self.m_accuracy = np.array([])\n",
    "        self.m_lambda = .5\n",
    "\n",
    "    def fit(self, X, y):\n",
    "        self.classes = y[\"Class\"].unique()\n",
    "        self.probs = pd.DataFrame(0.0, index=X.columns, columns=self.classes)\n",
    "        self.aprior_log_probs = pd.Series(0.0, index=self.classes)\n",
    "\n",
    "        for class_val in self.classes:\n",
    "            class_rows = y[y[\"Class\"] == class_val]\n",
    "            self.aprior_log_probs[class_val] = len(class_rows)\n",
    "                    \n",
    "        for index, row in X.iterrows():\n",
    "            for attr in X.columns:\n",
    "                if(row[attr] == \"y\"):\n",
    "                    self.probs.loc[attr,y.loc[index,\"Class\"]] += 1.0\n",
    "        \n",
    "        for c in self.classes:\n",
    "            for attr in X.columns:\n",
    "                    self.probs.loc[attr,c]  = ( self.probs.loc[attr,c] + self.m_lambda ) / (self.aprior_log_probs[c] + len(self.classes)*self.m_lambda)\n",
    "        \n",
    "        self.aprior_log_probs /= len(y)\n",
    "        self.aprior_log_probs = np.log(self.aprior_log_probs)\n",
    "\n",
    "        # print(self.probs)\n",
    "        # print(self.aprior_log_probs)\n",
    "\n",
    "    def accuracy(self, X, y):\n",
    "        guessed = 0\n",
    "        \n",
    "        for index, row in X.iterrows():\n",
    "            bestClass = None\n",
    "            bestScore = -np.inf\n",
    "            for c in self.classes:\n",
    "                score = self.aprior_log_probs[c]\n",
    "                for attr in X.columns:\n",
    "                    if row[attr] == \"y\":\n",
    "                        score += np.log(self.probs.loc[attr, c])\n",
    "                    else:\n",
    "                        score += np.log(1.0 - self.probs.loc[attr, c])\n",
    "                if score > bestScore:\n",
    "                    bestClass = c\n",
    "                    bestScore = score\n",
    "    \n",
    "            if bestClass == y.loc[index,\"Class\"]:\n",
    "                guessed += 1\n",
    "                \n",
    "        currentSampleAccuracy = guessed / X.shape[0]\n",
    "        print(f\"Accuracy: {currentSampleAccuracy}\")\n",
    "        self.m_accuracy = np.append(self.m_accuracy, currentSampleAccuracy)\n",
    "\n",
    "    def getMeanAccuracy(self):\n",
    "        return np.mean(self.m_accuracy)\n",
    "\n",
    "    \n"
   ]
  },
  {
   "cell_type": "code",
   "execution_count": 5,
   "id": "f784d152-eb8e-4dc4-96ca-6debeb548b77",
   "metadata": {
    "scrolled": true
   },
   "outputs": [
    {
     "name": "stdout",
     "output_type": "stream",
     "text": [
      "Accuracy: 0.8863636363636364\n",
      "Accuracy: 0.9090909090909091\n",
      "Accuracy: 0.9545454545454546\n",
      "Accuracy: 0.9318181818181818\n",
      "Accuracy: 0.8409090909090909\n",
      "Accuracy: 0.9767441860465116\n",
      "Accuracy: 0.8604651162790697\n",
      "Accuracy: 0.8604651162790697\n",
      "Accuracy: 0.9069767441860465\n",
      "Accuracy: 0.8604651162790697\n",
      "0.898784355179704\n"
     ]
    }
   ],
   "source": [
    "from sklearn.model_selection import KFold\n",
    "\n",
    "n_splits = 10\n",
    "kf = KFold(n_splits=n_splits, shuffle=True, random_state=42)\n",
    "\n",
    "accuracy = np.empty(0)\n",
    "model = NaiveBayes()\n",
    "\n",
    "for fold, (train_index, test_index) in enumerate(kf.split(X), 1):\n",
    "    X_train, X_test = X.iloc[train_index], X.iloc[test_index]\n",
    "    y_train, y_test = y.iloc[train_index], y.iloc[test_index]\n",
    "\n",
    "    \n",
    "    model.fit(X_train, y_train)\n",
    "    model.accuracy(X_test, y_test)\n",
    "\n",
    "print(model.getMeanAccuracy())"
   ]
  },
  {
   "cell_type": "code",
   "execution_count": null,
   "id": "b8b8b12f-7587-43c7-b771-eb20099f5335",
   "metadata": {},
   "outputs": [],
   "source": []
  }
 ],
 "metadata": {
  "kernelspec": {
   "display_name": "Python 3 (ipykernel)",
   "language": "python",
   "name": "python3"
  },
  "language_info": {
   "codemirror_mode": {
    "name": "ipython",
    "version": 3
   },
   "file_extension": ".py",
   "mimetype": "text/x-python",
   "name": "python",
   "nbconvert_exporter": "python",
   "pygments_lexer": "ipython3",
   "version": "3.12.4"
  }
 },
 "nbformat": 4,
 "nbformat_minor": 5
}
